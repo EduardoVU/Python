{
  "nbformat": 4,
  "nbformat_minor": 0,
  "metadata": {
    "colab": {
      "provenance": []
    },
    "kernelspec": {
      "name": "python3",
      "display_name": "Python 3"
    },
    "language_info": {
      "name": "python"
    }
  },
  "cells": [
    {
      "cell_type": "code",
      "execution_count": 1,
      "metadata": {
        "colab": {
          "base_uri": "https://localhost:8080/"
        },
        "id": "DiZqGl22wkM9",
        "outputId": "68e6ffc4-ab2e-4d45-cf2d-9c7912c4cd63"
      },
      "outputs": [
        {
          "output_type": "stream",
          "name": "stdout",
          "text": [
            "Teclea la función en formato Ax**2+Bx+C: -1x**2+0x+0\n",
            "-1x**2+0x+0\n",
            "La raíz uno es:  -0.0  y la raíz dos es:  0.0 "
          ]
        }
      ],
      "source": [
        "import re\n",
        "import numpy as np\n",
        "\n",
        "funcion = input(\"Teclea la función en formato Ax**2+Bx+C: \")\n",
        "print (funcion)\n",
        "filtro = re.compile(r'((-)?(\\d){1,10})')\n",
        "matching_object = filtro.findall(funcion)\n",
        "#print(matching_object)\n",
        "A = float(matching_object[0][0])\n",
        "B = float(matching_object[2][0])\n",
        "C = float(matching_object[3][0])\n",
        "\n",
        "argumento = (B**2)-(4*A*C)\n",
        "if argumento >=0:\n",
        "\n",
        "  raiz_uno = (-B+np.sqrt(argumento))/(2*A)\n",
        "  raiz_dos = (-B-np.sqrt(argumento))/(2*A)\n",
        "  print(\"La raíz uno es: \", round(raiz_uno,2), \" y la raíz dos es: \",round(raiz_dos,2), end=\" \")\n",
        "\n",
        "else:\n",
        "  \n",
        "  print(\"Raíz con número complejo\")\n",
        "  argumento = -argumento\n",
        "  real = round(-B/(2*A),2)\n",
        "  imaginario = round(np.sqrt(argumento)/(2*A),2)\n",
        "  real = str(real)\n",
        "  imaginario = str(imaginario)\n",
        "  print(\"Las raíces son: \"+real+\" ± \"+imaginario+\"i\")"
      ]
    },
    {
      "cell_type": "code",
      "source": [],
      "metadata": {
        "id": "AiClMiAlwlyZ"
      },
      "execution_count": null,
      "outputs": []
    }
  ]
}