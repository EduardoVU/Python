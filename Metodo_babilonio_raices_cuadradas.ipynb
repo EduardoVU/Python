{
  "nbformat": 4,
  "nbformat_minor": 0,
  "metadata": {
    "colab": {
      "provenance": []
    },
    "kernelspec": {
      "name": "python3",
      "display_name": "Python 3"
    },
    "language_info": {
      "name": "python"
    }
  },
  "cells": [
    {
      "cell_type": "code",
      "execution_count": 2,
      "metadata": {
        "colab": {
          "base_uri": "https://localhost:8080/"
        },
        "id": "QeZvibkCxZZV",
        "outputId": "90fca057-2d4b-4e86-a50c-8e9238158995"
      },
      "outputs": [
        {
          "output_type": "stream",
          "name": "stdout",
          "text": [
            "Ingrese el valor al que se le quiere aproximar su raíz cuadrada: 16\n",
            "La raíz es: 4.002257524798522 con un error de: 0.000564381199630537 "
          ]
        }
      ],
      "source": [
        "import numpy as np\n",
        "Valor_inicial = float(input(\"Ingrese el valor al que se le quiere aproximar su raíz cuadrada: \")) #Valor al que se le desea aproximar raiz\n",
        "error = float() #Declaración de variable de error\n",
        "Valor_raiz=(Valor_inicial+(Valor_inicial/Valor_inicial))/2 #Primera aproximación de raiz\n",
        "\n",
        "'''METODO'''\n",
        "\n",
        "def metodobabilonio(Valor_raiz):\n",
        "  Valor_raiz=(Valor_raiz+(Valor_inicial/Valor_raiz))/2 #Siguiente iteración\n",
        "  #calculo de error\n",
        "  error = (np.sqrt(Valor_inicial) - Valor_raiz)/np.sqrt(Valor_inicial) #Calculo de error comparado con libreria de numpy\n",
        "  if error <0: #En caso de que el error calculado sea negativo, convertirlo en positivo\n",
        "    error = -error\n",
        "  return Valor_raiz, error #regresar los valores obtenidos\n",
        "    \n",
        "resultado = metodobabilonio(Valor_raiz) #creamos la variable \"resultado\", la cual sera una tupla con almacenamiento de tipo (Valor_raiz, error)\n",
        "\n",
        "while resultado[1] > 0.001: #En caso de que el error sea mayor a 0.001, hacer recursividad de la función con el valor_raiz\n",
        "  resultado = metodobabilonio(resultado[0])\n",
        "\n",
        "print(\"La raíz es:\",resultado[0],\"con un error de:\", resultado[1] , end=\" \")\n"
      ]
    },
    {
      "cell_type": "code",
      "source": [],
      "metadata": {
        "id": "kepYZ_F4x5wh"
      },
      "execution_count": null,
      "outputs": []
    }
  ]
}