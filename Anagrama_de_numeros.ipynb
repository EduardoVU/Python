{
  "nbformat": 4,
  "nbformat_minor": 0,
  "metadata": {
    "colab": {
      "provenance": []
    },
    "kernelspec": {
      "name": "python3",
      "display_name": "Python 3"
    },
    "language_info": {
      "name": "python"
    }
  },
  "cells": [
    {
      "cell_type": "code",
      "execution_count": null,
      "metadata": {
        "id": "bK4IBTWLzwYC"
      },
      "outputs": [],
      "source": [
        "#El código se encarga de voltear un número entre los rangos sin utilizar listas o convertir el valor en string, el objetivo es usar solo operaciones matemáticas \n",
        "\n",
        "import math\n",
        "numero = int(input(\"Numero a voltear entre 1 y 99999999 = \"))\n",
        "\n",
        "if (numero < 1 or numero > 99999999):\n",
        "  print(\"Valor fuera de el rango\")\n",
        "\n",
        "else:\n",
        "  resultado = 0 \n",
        "  resultado_final = 0\n",
        "  while numero >=1 :\n",
        "    numero = numero/10\n",
        "    digito = math.trunc(numero)\n",
        "\n",
        "    resta = numero - digito\n",
        "    resultado = resta*10\n",
        "    numero = digito\n",
        "    resultado_final = resultado_final*10+resultado\n",
        "\n",
        "  print(int(round(resultado_final,0)))\n",
        "\n"
      ]
    }
  ]
}